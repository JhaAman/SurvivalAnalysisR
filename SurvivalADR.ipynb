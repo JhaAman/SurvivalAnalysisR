{
 "cells": [
  {
   "cell_type": "code",
   "execution_count": 70,
   "metadata": {},
   "outputs": [
    {
     "name": "stderr",
     "output_type": "stream",
     "text": [
      "Warning message:\n",
      "\"unable to access index for repository http://www.stats.ox.ac.uk/pub/RWin/bin/windows/contrib/3.5:\n",
      "  cannot open URL 'http://www.stats.ox.ac.uk/pub/RWin/bin/windows/contrib/3.5/PACKAGES'\"Warning message:\n",
      "\"packages 'coxed', 'survival', 'survsim', 'survminer' are in use and will not be installed\""
     ]
    }
   ],
   "source": [
    "chooseCRANmirror(graphics=FALSE, ind=1)\n",
    "install.packages(c(\"coxed\", \"survival\", \"survsim\", \"survminer\"))"
   ]
  },
  {
   "cell_type": "code",
   "execution_count": 71,
   "metadata": {},
   "outputs": [],
   "source": [
    "library(coxed)\n",
    "library(survival)\n",
    "library(survsim)\n",
    "library(survminer)"
   ]
  },
  {
   "cell_type": "markdown",
   "metadata": {},
   "source": [
    "## Coxed trial"
   ]
  },
  {
   "cell_type": "code",
   "execution_count": 11,
   "metadata": {},
   "outputs": [
    {
     "data": {
      "text/html": [
       "<dl>\n",
       "\t<dt>$names</dt>\n",
       "\t\t<dd><ol class=list-inline>\n",
       "\t<li>'data'</li>\n",
       "\t<li>'xdata'</li>\n",
       "\t<li>'baseline'</li>\n",
       "\t<li>'xb'</li>\n",
       "\t<li>'exp.xb'</li>\n",
       "\t<li>'betas'</li>\n",
       "\t<li>'ind.survive'</li>\n",
       "\t<li>'marg.effect'</li>\n",
       "\t<li>'marg.effect.data'</li>\n",
       "</ol>\n",
       "</dd>\n",
       "\t<dt>$class</dt>\n",
       "\t\t<dd>'simSurvdata'</dd>\n",
       "</dl>\n"
      ],
      "text/latex": [
       "\\begin{description}\n",
       "\\item[\\$names] \\begin{enumerate*}\n",
       "\\item 'data'\n",
       "\\item 'xdata'\n",
       "\\item 'baseline'\n",
       "\\item 'xb'\n",
       "\\item 'exp.xb'\n",
       "\\item 'betas'\n",
       "\\item 'ind.survive'\n",
       "\\item 'marg.effect'\n",
       "\\item 'marg.effect.data'\n",
       "\\end{enumerate*}\n",
       "\n",
       "\\item[\\$class] 'simSurvdata'\n",
       "\\end{description}\n"
      ],
      "text/markdown": [
       "$names\n",
       ":   1. 'data'\n",
       "2. 'xdata'\n",
       "3. 'baseline'\n",
       "4. 'xb'\n",
       "5. 'exp.xb'\n",
       "6. 'betas'\n",
       "7. 'ind.survive'\n",
       "8. 'marg.effect'\n",
       "9. 'marg.effect.data'\n",
       "\n",
       "\n",
       "\n",
       "$class\n",
       ":   'simSurvdata'\n",
       "\n",
       "\n"
      ],
      "text/plain": [
       "$names\n",
       "[1] \"data\"             \"xdata\"            \"baseline\"         \"xb\"              \n",
       "[5] \"exp.xb\"           \"betas\"            \"ind.survive\"      \"marg.effect\"     \n",
       "[9] \"marg.effect.data\"\n",
       "\n",
       "$class\n",
       "[1] \"simSurvdata\"\n"
      ]
     },
     "metadata": {},
     "output_type": "display_data"
    }
   ],
   "source": [
    "simdata <- sim.survdata(N=500, T=3650, xvars=2, censor=.2, num.data.frames=1)\n",
    "attributes(simdata)\n",
    "# data is full dataset\n",
    "# xdata is the covariates\n",
    "# baseline is baseline functions (failure.pdf, failure.cdf, survivor, hazard)\n",
    "# betas is coefficients used to generate durations\n",
    "# xb is linear predictor which is coefficients and covariates\n",
    "# exp.xb is exponentiated values of linear predictor\n",
    "# ind.survive is the observation survivor functions"
   ]
  },
  {
   "cell_type": "code",
   "execution_count": 12,
   "metadata": {},
   "outputs": [
    {
     "data": {
      "text/plain": [
       "TableGrob (2 x 1) \"arrange\": 2 grobs\n",
       "  z     cells    name           grob\n",
       "1 1 (1-1,1-1) arrange gtable[layout]\n",
       "2 2 (2-2,1-1) arrange gtable[layout]"
      ]
     },
     "metadata": {},
     "output_type": "display_data"
    },
    {
     "data": {
      "image/png": "[encoded data removed]",
      "text/plain": [
       "plot without title"
      ]
     },
     "metadata": {},
     "output_type": "display_data"
    }
   ],
   "source": [
    "survsim.plot(simdata, df=1, type=\"both\")"
   ]
  },
  {
   "cell_type": "code",
   "execution_count": 15,
   "metadata": {},
   "outputs": [
    {
     "data": {
      "text/html": [
       "<table>\n",
       "<thead><tr><th scope=col>X1</th><th scope=col>X2</th><th scope=col>y</th><th scope=col>failed</th></tr></thead>\n",
       "<tbody>\n",
       "\t<tr><td>-2.2230406 </td><td>-0.58097153</td><td>1610       </td><td> TRUE      </td></tr>\n",
       "\t<tr><td> 1.1379530 </td><td>-1.68204533</td><td>2316       </td><td> TRUE      </td></tr>\n",
       "\t<tr><td> 0.6095564 </td><td> 0.21901242</td><td>1159       </td><td>FALSE      </td></tr>\n",
       "\t<tr><td> 0.9807852 </td><td>-2.44959369</td><td>1669       </td><td>FALSE      </td></tr>\n",
       "\t<tr><td> 0.9140289 </td><td> 0.06876344</td><td>2813       </td><td> TRUE      </td></tr>\n",
       "\t<tr><td> 0.7429192 </td><td>-1.57692352</td><td>1150       </td><td> TRUE      </td></tr>\n",
       "</tbody>\n",
       "</table>\n"
      ],
      "text/latex": [
       "\\begin{tabular}{r|llll}\n",
       " X1 & X2 & y & failed\\\\\n",
       "\\hline\n",
       "\t -2.2230406  & -0.58097153 & 1610        &  TRUE      \\\\\n",
       "\t  1.1379530  & -1.68204533 & 2316        &  TRUE      \\\\\n",
       "\t  0.6095564  &  0.21901242 & 1159        & FALSE      \\\\\n",
       "\t  0.9807852  & -2.44959369 & 1669        & FALSE      \\\\\n",
       "\t  0.9140289  &  0.06876344 & 2813        &  TRUE      \\\\\n",
       "\t  0.7429192  & -1.57692352 & 1150        &  TRUE      \\\\\n",
       "\\end{tabular}\n"
      ],
      "text/markdown": [
       "\n",
       "X1 | X2 | y | failed | \n",
       "|---|---|---|---|---|---|\n",
       "| -2.2230406  | -0.58097153 | 1610        |  TRUE       | \n",
       "|  1.1379530  | -1.68204533 | 2316        |  TRUE       | \n",
       "|  0.6095564  |  0.21901242 | 1159        | FALSE       | \n",
       "|  0.9807852  | -2.44959369 | 1669        | FALSE       | \n",
       "|  0.9140289  |  0.06876344 | 2813        |  TRUE       | \n",
       "|  0.7429192  | -1.57692352 | 1150        |  TRUE       | \n",
       "\n",
       "\n"
      ],
      "text/plain": [
       "  X1         X2          y    failed\n",
       "1 -2.2230406 -0.58097153 1610  TRUE \n",
       "2  1.1379530 -1.68204533 2316  TRUE \n",
       "3  0.6095564  0.21901242 1159 FALSE \n",
       "4  0.9807852 -2.44959369 1669 FALSE \n",
       "5  0.9140289  0.06876344 2813  TRUE \n",
       "6  0.7429192 -1.57692352 1150  TRUE "
      ]
     },
     "metadata": {},
     "output_type": "display_data"
    }
   ],
   "source": [
    "head(simdata$data)"
   ]
  },
  {
   "cell_type": "markdown",
   "metadata": {},
   "source": [
    "## Survival trial"
   ]
  },
  {
   "cell_type": "code",
   "execution_count": 21,
   "metadata": {},
   "outputs": [
    {
     "data": {
      "text/plain": [
       " [1]   9   13   13+  18   23   28+  31   34   45+  48  161+   5    5    8    8 \n",
       "[16]  12   16+  23   27   30   33   43   45 "
      ]
     },
     "metadata": {},
     "output_type": "display_data"
    }
   ],
   "source": [
    "Surv(aml$time, aml$status)"
   ]
  },
  {
   "cell_type": "code",
   "execution_count": 60,
   "metadata": {},
   "outputs": [
    {
     "name": "stdout",
     "output_type": "stream",
     "text": [
      "Call: survfit(formula = Surv(aml$time[1:11], aml$status[1:11]) ~ 1)\n",
      "\n",
      "      n  events  median 0.95LCL 0.95UCL \n",
      "     11       7      31      18      NA \n"
     ]
    },
    {
     "data": {
      "image/png": "[encoded data removed]",
      "text/plain": [
       "plot without title"
      ]
     },
     "metadata": {},
     "output_type": "display_data"
    }
   ],
   "source": [
    "fit <- survfit(Surv(aml$time[1:11],aml$status[1:11])~1)\n",
    "print(fit)\n",
    "plot(fit)"
   ]
  },
  {
   "cell_type": "code",
   "execution_count": 28,
   "metadata": {},
   "outputs": [
    {
     "data": {
      "text/plain": [
       "Call:\n",
       "survdiff(formula = Surv(time, status) ~ x, data = aml)\n",
       "\n",
       "                 N Observed Expected (O-E)^2/E (O-E)^2/V\n",
       "x=Maintained    11        7    10.69      1.27       3.4\n",
       "x=Nonmaintained 12       11     7.31      1.86       3.4\n",
       "\n",
       " Chisq= 3.4  on 1 degrees of freedom, p= 0.07 "
      ]
     },
     "metadata": {},
     "output_type": "display_data"
    }
   ],
   "source": [
    "# Log-rank example (since rho is 0 by default)\n",
    "survdiff(Surv(time, status)~x, data=aml)"
   ]
  },
  {
   "cell_type": "code",
   "execution_count": 36,
   "metadata": {},
   "outputs": [
    {
     "data": {
      "text/html": [
       "<strong>x:</strong> -3.03233779481716"
      ],
      "text/latex": [
       "\\textbf{x:} -3.03233779481716"
      ],
      "text/markdown": [
       "**x:** -3.03233779481716"
      ],
      "text/plain": [
       "        x \n",
       "-3.032338 "
      ]
     },
     "metadata": {},
     "output_type": "display_data"
    },
    {
     "data": {
      "text/html": [
       "<strong>x:</strong> 0.388622867541711"
      ],
      "text/latex": [
       "\\textbf{x:} 0.388622867541711"
      ],
      "text/markdown": [
       "**x:** 0.388622867541711"
      ],
      "text/plain": [
       "        x \n",
       "0.3886229 "
      ]
     },
     "metadata": {},
     "output_type": "display_data"
    }
   ],
   "source": [
    "x <- (1:30)/2 - 3 # create the covariates, 30 of them\n",
    "myrates <- exp(3*x+1) # the risk exp(beta*x), parameters for exp r.v.\n",
    "y <- rexp(30, rate = myrates) # generates the r.v.\n",
    "survreg(Surv(y,rep(1,30))~x,dist=\"weibull\")$coef[2]\n",
    "#slope estimate by weibull regression\n",
    "#we do not have any censoring in the data\n",
    "coxph(Surv(y,rep(1,30))~x)$coef # estimate from Cox regression\n"
   ]
  },
  {
   "cell_type": "code",
   "execution_count": 37,
   "metadata": {},
   "outputs": [],
   "source": [
    "Simu2reg <- function(x , inputrates){\n",
    "    y <- rexp(length(inputrates), rate=inputrates)\n",
    "    temp1 <- survreg(Surv(y, rep(1, length(y)))~x,dist=\"weibull\")\n",
    "    temp2 <- coxph(Surv(y, rep(1, length(y)))~x)\n",
    "    return(c(temp1$coef[2], temp2$coef))\n",
    "}"
   ]
  },
  {
   "cell_type": "code",
   "execution_count": 38,
   "metadata": {},
   "outputs": [],
   "source": [
    "result <- matrix(NA, nrow=2, ncol=5000) #creat a matrix to hold outcome\n",
    "for(i in 1:100) result[,i]<-Simu2reg(x,myrates) #run the simulation 100 times"
   ]
  },
  {
   "cell_type": "markdown",
   "metadata": {},
   "source": [
    "## Survsim Trial"
   ]
  },
  {
   "cell_type": "code",
   "execution_count": 56,
   "metadata": {},
   "outputs": [
    {
     "data": {
      "text/html": [
       "<table>\n",
       "<thead><tr><th scope=col>nid</th><th scope=col>status</th><th scope=col>start</th><th scope=col>stop</th><th scope=col>z</th><th scope=col>x</th><th scope=col>x.1</th></tr></thead>\n",
       "<tbody>\n",
       "\t<tr><td> 1       </td><td>0        </td><td>0        </td><td>170.86769</td><td>1        </td><td>1        </td><td>0        </td></tr>\n",
       "\t<tr><td> 2       </td><td>0        </td><td>0        </td><td>  3.11462</td><td>1        </td><td>1        </td><td>0        </td></tr>\n",
       "\t<tr><td> 3       </td><td>1        </td><td>0        </td><td>333.59546</td><td>1        </td><td>0        </td><td>1        </td></tr>\n",
       "\t<tr><td> 4       </td><td>0        </td><td>0        </td><td> 48.12516</td><td>1        </td><td>0        </td><td>0        </td></tr>\n",
       "\t<tr><td> 5       </td><td>1        </td><td>0        </td><td>202.86212</td><td>1        </td><td>0        </td><td>0        </td></tr>\n",
       "\t<tr><td> 6       </td><td>1        </td><td>0        </td><td>203.66397</td><td>1        </td><td>0        </td><td>0        </td></tr>\n",
       "\t<tr><td> 7       </td><td>0        </td><td>0        </td><td>121.19528</td><td>1        </td><td>0        </td><td>0        </td></tr>\n",
       "\t<tr><td> 8       </td><td>0        </td><td>0        </td><td> 92.83497</td><td>1        </td><td>0        </td><td>1        </td></tr>\n",
       "\t<tr><td> 9       </td><td>1        </td><td>0        </td><td> 13.27302</td><td>1        </td><td>1        </td><td>0        </td></tr>\n",
       "\t<tr><td>10       </td><td>0        </td><td>0        </td><td>312.58261</td><td>1        </td><td>1        </td><td>0        </td></tr>\n",
       "</tbody>\n",
       "</table>\n"
      ],
      "text/latex": [
       "\\begin{tabular}{r|lllllll}\n",
       " nid & status & start & stop & z & x & x.1\\\\\n",
       "\\hline\n",
       "\t  1        & 0         & 0         & 170.86769 & 1         & 1         & 0        \\\\\n",
       "\t  2        & 0         & 0         &   3.11462 & 1         & 1         & 0        \\\\\n",
       "\t  3        & 1         & 0         & 333.59546 & 1         & 0         & 1        \\\\\n",
       "\t  4        & 0         & 0         &  48.12516 & 1         & 0         & 0        \\\\\n",
       "\t  5        & 1         & 0         & 202.86212 & 1         & 0         & 0        \\\\\n",
       "\t  6        & 1         & 0         & 203.66397 & 1         & 0         & 0        \\\\\n",
       "\t  7        & 0         & 0         & 121.19528 & 1         & 0         & 0        \\\\\n",
       "\t  8        & 0         & 0         &  92.83497 & 1         & 0         & 1        \\\\\n",
       "\t  9        & 1         & 0         &  13.27302 & 1         & 1         & 0        \\\\\n",
       "\t 10        & 0         & 0         & 312.58261 & 1         & 1         & 0        \\\\\n",
       "\\end{tabular}\n"
      ],
      "text/markdown": [
       "\n",
       "nid | status | start | stop | z | x | x.1 | \n",
       "|---|---|---|---|---|---|---|---|---|---|\n",
       "|  1        | 0         | 0         | 170.86769 | 1         | 1         | 0         | \n",
       "|  2        | 0         | 0         |   3.11462 | 1         | 1         | 0         | \n",
       "|  3        | 1         | 0         | 333.59546 | 1         | 0         | 1         | \n",
       "|  4        | 0         | 0         |  48.12516 | 1         | 0         | 0         | \n",
       "|  5        | 1         | 0         | 202.86212 | 1         | 0         | 0         | \n",
       "|  6        | 1         | 0         | 203.66397 | 1         | 0         | 0         | \n",
       "|  7        | 0         | 0         | 121.19528 | 1         | 0         | 0         | \n",
       "|  8        | 0         | 0         |  92.83497 | 1         | 0         | 1         | \n",
       "|  9        | 1         | 0         |  13.27302 | 1         | 1         | 0         | \n",
       "| 10        | 0         | 0         | 312.58261 | 1         | 1         | 0         | \n",
       "\n",
       "\n"
      ],
      "text/plain": [
       "   nid status start stop      z x x.1\n",
       "1   1  0      0     170.86769 1 1 0  \n",
       "2   2  0      0       3.11462 1 1 0  \n",
       "3   3  1      0     333.59546 1 0 1  \n",
       "4   4  0      0      48.12516 1 0 0  \n",
       "5   5  1      0     202.86212 1 0 0  \n",
       "6   6  1      0     203.66397 1 0 0  \n",
       "7   7  0      0     121.19528 1 0 0  \n",
       "8   8  0      0      92.83497 1 0 1  \n",
       "9   9  1      0      13.27302 1 1 0  \n",
       "10 10  0      0     312.58261 1 1 0  "
      ]
     },
     "metadata": {},
     "output_type": "display_data"
    }
   ],
   "source": [
    "dist.ev <- \"weibull\"\n",
    "anc.ev <- 1\n",
    "beta0.ev <- 5.269\n",
    "dist.cens <- \"weibull\"\n",
    "anc.cens <- 1\n",
    "beta0.cens <- 5.368\n",
    "x <- list(c(\"bern\", 0.3), c(\"bern\", 0.4))\n",
    "beta <- list(-0.4, -0.25)\n",
    "simple.dat <- simple.surv.sim(500, 3650, dist.ev, anc.ev, beta0.ev, dist.cens, anc.cens, beta0.cens, , beta, x)\n",
    "head(simple.dat,10)"
   ]
  },
  {
   "cell_type": "code",
   "execution_count": 67,
   "metadata": {},
   "outputs": [
    {
     "data": {
      "text/plain": [
       "Call:  coxph(formula = Surv(stop, status) ~ 1, data = simple.dat)\n",
       "\n",
       "Null model\n",
       "  log likelihood= -1497.314 \n",
       "  n= 500 "
      ]
     },
     "metadata": {},
     "output_type": "display_data"
    }
   ],
   "source": [
    "res.cox <- coxph(Surv(stop, status) ~ 1, data=simple.dat)\n",
    "res.cox"
   ]
  },
  {
   "cell_type": "code",
   "execution_count": 74,
   "metadata": {},
   "outputs": [
    {
     "ename": "ERROR",
     "evalue": "Error in ggsurvplot(res.cox, pval = TRUE, conf.int = TRUE, risk.table = TRUE, : object 'ggsurv' not found\n",
     "output_type": "error",
     "traceback": [
      "Error in ggsurvplot(res.cox, pval = TRUE, conf.int = TRUE, risk.table = TRUE, : object 'ggsurv' not found\nTraceback:\n",
      "1. ggsurvplot(res.cox, pval = TRUE, conf.int = TRUE, risk.table = TRUE, \n .     risk.table.col = \"strata\", linetype = \"strata\", surv.median.line = \"hv\", \n .     ggtheme = theme_bw(), palette = c(\"#E7B800\", \"#2E9FDF\"))"
     ]
    }
   ],
   "source": [
    "fit <- survfit(Surv(stop, status) ~ 1, data = simple.dat)\n",
    "# Change color, linetype by strata, risk.table color by strata\n",
    "ggsurvplot(res.cox,\n",
    "          pval = TRUE, conf.int = TRUE,\n",
    "          risk.table = TRUE, # Add risk table\n",
    "          risk.table.col = \"strata\", # Change risk table color by groups\n",
    "          linetype = \"strata\", # Change line type by groups\n",
    "          surv.median.line = \"hv\", # Specify median survival\n",
    "          ggtheme = theme_bw(), # Change ggplot2 theme\n",
    "          palette = c(\"#E7B800\", \"#2E9FDF\"))"
   ]
  },
  {
   "cell_type": "code",
   "execution_count": null,
   "metadata": {},
   "outputs": [],
   "source": []
  }
 ],
 "metadata": {
  "kernelspec": {
   "display_name": "R",
   "language": "R",
   "name": "ir"
  },
  "language_info": {
   "codemirror_mode": "r",
   "file_extension": ".r",
   "mimetype": "text/x-r-source",
   "name": "R",
   "pygments_lexer": "r",
   "version": "3.5.1"
  }
 },
 "nbformat": 4,
 "nbformat_minor": 2
}
